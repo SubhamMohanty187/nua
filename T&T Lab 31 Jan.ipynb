{
 "cells": [
  {
   "cell_type": "markdown",
   "id": "a6094f9f",
   "metadata": {},
   "source": [
    "### Q-1) Write a program in python to multiply adjacent elements in a tuple"
   ]
  },
  {
   "cell_type": "code",
   "execution_count": 10,
   "id": "48b5fd39",
   "metadata": {},
   "outputs": [
    {
     "name": "stdout",
     "output_type": "stream",
     "text": [
      "(2, 6, 12, 20)\n"
     ]
    }
   ],
   "source": [
    "tup = (1,2,3,4,5)\n",
    "l = len(tup)\n",
    "ans = []\n",
    "for i in range(0,l-1):\n",
    "    ans.append(tup[i] * tup[i+1])\n",
    "print(tuple(ans))"
   ]
  },
  {
   "cell_type": "markdown",
   "id": "fa3d2bae",
   "metadata": {},
   "source": [
    "### Q-2)Write a program in python to find all pair combinations of 2 tuples"
   ]
  },
  {
   "cell_type": "code",
   "execution_count": 9,
   "id": "f0b778dc",
   "metadata": {},
   "outputs": [
    {
     "name": "stdout",
     "output_type": "stream",
     "text": [
      "All Pairs are:\n",
      "\n",
      "[(1, 5), (1, 6), (1, 7), (1, 8), (2, 5), (2, 6), (2, 7), (2, 8), (3, 5), (3, 6), (3, 7), (3, 8), (4, 5), (4, 6), (4, 7), (4, 8)]\n"
     ]
    }
   ],
   "source": [
    "t1 = (1,2,3,4)\n",
    "t2 = (5,6,7,8)\n",
    "ans = []\n",
    "print(\"All Pairs are:\\n\")\n",
    "for i in t1:\n",
    "    for j in t2:\n",
    "        ans.append( (i,j) )\n",
    "print(ans)"
   ]
  },
  {
   "cell_type": "markdown",
   "id": "157a9960",
   "metadata": {},
   "source": [
    "### Q-3)Write a program in python to find tuples which have all elements divisible by 7 from a list of tuples"
   ]
  },
  {
   "cell_type": "code",
   "execution_count": 33,
   "id": "cad263f8",
   "metadata": {},
   "outputs": [
    {
     "name": "stdout",
     "output_type": "stream",
     "text": [
      "[(7, 14, 21), (28, 63, 56)]\n"
     ]
    }
   ],
   "source": [
    "l = [(1,2,3), (7,14,21), (5,6,9), (28,63,56), (10,20,30), (14,12,34)]\n",
    "ans = [i for i in l if all(j % 7 == 0 for j in i)]\n",
    "print(ans)"
   ]
  },
  {
   "cell_type": "markdown",
   "id": "294c5062",
   "metadata": {},
   "source": [
    "### Q-4) Write a program in python to remove the duplicates from tuple"
   ]
  },
  {
   "cell_type": "code",
   "execution_count": 11,
   "id": "d91eba42",
   "metadata": {},
   "outputs": [
    {
     "name": "stdout",
     "output_type": "stream",
     "text": [
      "After Removing Duplicates:\n",
      "\n",
      "(1, 2, 3, 4, 5, 6, 7, 8, 9)\n"
     ]
    }
   ],
   "source": [
    "tup = (1,2,1,3,4,3,5,6,3,5,7,8,5,9,2,4,8)\n",
    "print(\"After Removing Duplicates:\\n\")\n",
    "t1 = set(tup)\n",
    "print(tuple(t1))"
   ]
  },
  {
   "cell_type": "markdown",
   "id": "05433291",
   "metadata": {},
   "source": [
    "### Q-5)Write a program in python to convert the tuple into list by adding the given string after every element"
   ]
  },
  {
   "cell_type": "code",
   "execution_count": 22,
   "id": "a67f7cee",
   "metadata": {},
   "outputs": [
    {
     "name": "stdout",
     "output_type": "stream",
     "text": [
      "Enter string:hello\n",
      "[1, 'hello', 2, 'hello', 3, 'hello', 4, 'hello', 5, 'hello']\n"
     ]
    }
   ],
   "source": [
    "tup = (1,2,3,4,5)\n",
    "s = input(\"Enter string:\")\n",
    "l = []\n",
    "for i in tup:\n",
    "    l.append(i)\n",
    "    l.append(s)\n",
    "print(l)"
   ]
  },
  {
   "cell_type": "markdown",
   "id": "c9b7a5af",
   "metadata": {},
   "source": [
    "### Q-6) Write a program in python to count words in a text file"
   ]
  },
  {
   "cell_type": "code",
   "execution_count": 45,
   "id": "c007f0b9",
   "metadata": {},
   "outputs": [
    {
     "name": "stdout",
     "output_type": "stream",
     "text": [
      "Total no. of words:\n",
      "6\n"
     ]
    }
   ],
   "source": [
    "f = open(\"new.txt\")\n",
    "for i in f:\n",
    "    l = i.split()\n",
    "print(\"Total no. of words:\")\n",
    "print(len(l))\n",
    "\n",
    "f.close()"
   ]
  },
  {
   "cell_type": "markdown",
   "id": "f8b2ff82",
   "metadata": {},
   "source": [
    "### Q-7)Write a program in python to delete a specific line from a file"
   ]
  },
  {
   "cell_type": "code",
   "execution_count": 48,
   "id": "8dc70a15",
   "metadata": {},
   "outputs": [
    {
     "name": "stdout",
     "output_type": "stream",
     "text": [
      "Enter the Line to Delete: subham\n",
      "\n",
      "The Line Deleted Successfully!\n"
     ]
    }
   ],
   "source": [
    "lineText = input(\"Enter the Line to Delete: \")\n",
    "fileHandle = open(\"new1.txt\", \"r\")\n",
    "lines = fileHandle.readlines()\n",
    "fileHandle.close()\n",
    "fileHandle = open(\"new1.txt\", \"w\")\n",
    "for line in lines:\n",
    "    if line.strip(\"\\n\") != lineText:\n",
    "        fileHandle.write(line)\n",
    "fileHandle.close()\n",
    "print(\"Line Deleted Successfully!\")"
   ]
  },
  {
   "cell_type": "markdown",
   "id": "850e7d7b",
   "metadata": {},
   "source": [
    "### Q-8)Write a program in python to print lines containing given string in file"
   ]
  },
  {
   "cell_type": "code",
   "execution_count": 37,
   "id": "b92ce1eb",
   "metadata": {},
   "outputs": [
    {
     "name": "stdout",
     "output_type": "stream",
     "text": [
      "['i like red\\n', 'i like blue\\n', 'i like green\\n', 'i like red and white\\n', 'i like black\\n', 'i like red and black']\n",
      "Enter a word to search: red\n",
      "Line containing the word red :\n",
      "i like red\n",
      "\n",
      "i like red and white\n",
      "\n",
      "i like red and black\n"
     ]
    }
   ],
   "source": [
    "f1 = open(\"new2.txt\")\n",
    "print(f1.readlines())\n",
    "s = input(\"Enter a word to search: \")\n",
    "print(\"Line containing the word\",s,\":\")\n",
    "f1.seek(0)\n",
    "for line in f1:\n",
    "    l = line.split()\n",
    "    if s in l:\n",
    "        print(line)\n",
    "f1.close()"
   ]
  }
 ],
 "metadata": {
  "kernelspec": {
   "display_name": "Python 3 (ipykernel)",
   "language": "python",
   "name": "python3"
  },
  "language_info": {
   "codemirror_mode": {
    "name": "ipython",
    "version": 3
   },
   "file_extension": ".py",
   "mimetype": "text/x-python",
   "name": "python",
   "nbconvert_exporter": "python",
   "pygments_lexer": "ipython3",
   "version": "3.8.12"
  }
 },
 "nbformat": 4,
 "nbformat_minor": 5
}
