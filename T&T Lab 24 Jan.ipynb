{
 "cells": [
  {
   "cell_type": "code",
   "execution_count": 34,
   "id": "7b8354e4",
   "metadata": {},
   "outputs": [
    {
     "name": "stdout",
     "output_type": "stream",
     "text": [
      "Enter a number:\n",
      "2\n",
      "Enter 2nd number:\n",
      "5\n",
      "Sum of 2 and 5 : 7\n"
     ]
    }
   ],
   "source": [
    "def getsum(n1,n2):\n",
    "    return n1+n2\n",
    "n1 = int(input(\"Enter a number:\\n\"))\n",
    "n2 = int(input(\"Enter 2nd number:\\n\"))\n",
    "print(\"Sum of\",n1,\"and\",n2,\":\",getsum(n1,n2))"
   ]
  },
  {
   "cell_type": "markdown",
   "id": "bfc634b2",
   "metadata": {},
   "source": [
    "### Q-1> Write a python function to find the oddsum and evensum of numbers"
   ]
  },
  {
   "cell_type": "code",
   "execution_count": 35,
   "id": "ce49f478",
   "metadata": {},
   "outputs": [
    {
     "name": "stdout",
     "output_type": "stream",
     "text": [
      "Enter no. of elements:\n",
      "5\n",
      "Enter 5 elements\n",
      "1\n",
      "2\n",
      "3\n",
      "4\n",
      "5\n",
      "OddSum:  9\n",
      "EvenSum:  6\n"
     ]
    }
   ],
   "source": [
    "def getsum(l):\n",
    "    odd = 0\n",
    "    even = 0\n",
    "    for i in l:\n",
    "        if i % 2 != 0:\n",
    "            odd += i\n",
    "        else:\n",
    "            even += i\n",
    "    return odd,even\n",
    "\n",
    "l = []\n",
    "n = int(input(\"Enter no. of elements:\\n\"))\n",
    "print(\"Enter\",n,\"elements\")\n",
    "for i in range(n):\n",
    "    l.append(int(input()))\n",
    "\n",
    "o,e = getsum(l)\n",
    "print(\"OddSum: \",o)\n",
    "print(\"EvenSum: \",e)\n"
   ]
  },
  {
   "cell_type": "markdown",
   "id": "6c0c8bd2",
   "metadata": {},
   "source": [
    "### Q-2> Write a python function to count the number of times a  character present in a given string"
   ]
  },
  {
   "cell_type": "code",
   "execution_count": 36,
   "id": "1f0bbd84",
   "metadata": {},
   "outputs": [
    {
     "name": "stdout",
     "output_type": "stream",
     "text": [
      "Enter a string:abchdaewa\n",
      "Enter a character to search:a\n",
      "No.of times a occurs in abchdaewa : 3\n"
     ]
    }
   ],
   "source": [
    "def countchar(s,c):\n",
    "    count = 0\n",
    "    for i in s:\n",
    "        if i == c:\n",
    "            count += 1\n",
    "    return count\n",
    "\n",
    "string = input(\"Enter a string:\")\n",
    "char = input(\"Enter a character to search:\")\n",
    "print(\"No.of times\",char,\"occurs in\",string,\":\",countchar(string,char))"
   ]
  },
  {
   "cell_type": "markdown",
   "id": "8b5043f1",
   "metadata": {},
   "source": [
    "### Q-3> Write a python function to find the perfect numbers within a given range"
   ]
  },
  {
   "cell_type": "code",
   "execution_count": 37,
   "id": "9a000c90",
   "metadata": {},
   "outputs": [
    {
     "name": "stdout",
     "output_type": "stream",
     "text": [
      "Enter first number:1\n",
      "Enter last number:1000\n",
      "Perfect Numbers between 1 and 1000 are:\n",
      "\n",
      "6\n",
      "28\n",
      "496\n"
     ]
    }
   ],
   "source": [
    "def findperfect(n):\n",
    "    perf = 0\n",
    "    for i in range(1,n):\n",
    "        if(n % i == 0):\n",
    "            perf = perf + i\n",
    "    if perf == n:\n",
    "        print(n)\n",
    "       \n",
    "n1 = int(input(\"Enter first number:\"))\n",
    "n2 = int(input(\"Enter last number:\"))\n",
    "print(\"Perfect Numbers between\",n1,\"and\",n2,\"are:\\n\")\n",
    "for i in range(n1,n2+1):\n",
    "    findperfect(i)"
   ]
  },
  {
   "cell_type": "markdown",
   "id": "da61a8f5",
   "metadata": {},
   "source": [
    "### Q-4> Write a python function to print a string if it's a palindrome."
   ]
  },
  {
   "cell_type": "code",
   "execution_count": 38,
   "id": "00fefb77",
   "metadata": {},
   "outputs": [
    {
     "name": "stdout",
     "output_type": "stream",
     "text": [
      "Enter a string:madam\n",
      "madam is a Palindrome\n"
     ]
    }
   ],
   "source": [
    "def isPalindrome(s):\n",
    "    s1 = s[::-1]\n",
    "    if list(s) == list(s1):\n",
    "        print(s,\"is a Palindrome\")\n",
    "    else:\n",
    "        print(\"Not a Palindrome!\")\n",
    "        \n",
    "s = input(\"Enter a string:\")\n",
    "isPalindrome(s)"
   ]
  },
  {
   "cell_type": "markdown",
   "id": "6aaa9f7e",
   "metadata": {},
   "source": [
    "### Q-5> Write a python function to find a particular number from a list of numbers using binary search."
   ]
  },
  {
   "cell_type": "code",
   "execution_count": 40,
   "id": "218ec125",
   "metadata": {},
   "outputs": [
    {
     "name": "stdout",
     "output_type": "stream",
     "text": [
      "Enter no. of elements:\n",
      "5\n",
      "Enter 5 elements\n",
      "1\n",
      "6\n",
      "4\n",
      "8\n",
      "2\n",
      "[1, 6, 4, 8, 2]\n",
      "Enter a number to search:6\n",
      "Element Found!\n"
     ]
    }
   ],
   "source": [
    "def searchnum(li,k):\n",
    "    l = 0\n",
    "    f = 0\n",
    "    h = len(li) - 1\n",
    "    while l <= h:\n",
    "        mid = (l+h) // 2\n",
    "        if li[mid] == k:\n",
    "            print(\"Element Found!\")\n",
    "            f = 1\n",
    "            break\n",
    "        elif li[mid] > k:\n",
    "            h = mid - 1\n",
    "        elif li[mid] < k:\n",
    "            l = mid + 1\n",
    "    if f == 0:\n",
    "        print(\"Not Found\")\n",
    "    \n",
    "\n",
    "l = []\n",
    "n = int(input(\"Enter no. of elements:\\n\"))\n",
    "print(\"Enter\",n,\"elements\")\n",
    "for i in range(n):\n",
    "    l.append(int(input()))\n",
    "\n",
    "print(l)\n",
    "k = int(input(\"Enter a number to search:\"))\n",
    "l.sort()\n",
    "searchnum(l,k)\n"
   ]
  },
  {
   "cell_type": "code",
   "execution_count": null,
   "id": "e298a7f8",
   "metadata": {},
   "outputs": [],
   "source": []
  }
 ],
 "metadata": {
  "kernelspec": {
   "display_name": "Python 3 (ipykernel)",
   "language": "python",
   "name": "python3"
  },
  "language_info": {
   "codemirror_mode": {
    "name": "ipython",
    "version": 3
   },
   "file_extension": ".py",
   "mimetype": "text/x-python",
   "name": "python",
   "nbconvert_exporter": "python",
   "pygments_lexer": "ipython3",
   "version": "3.8.12"
  }
 },
 "nbformat": 4,
 "nbformat_minor": 5
}
